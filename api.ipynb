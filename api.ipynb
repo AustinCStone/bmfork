{
 "cells": [
  {
   "cell_type": "code",
   "execution_count": 1,
   "id": "b13dfcff-0a0a-4687-bbf8-b7432593340e",
   "metadata": {},
   "outputs": [],
   "source": [
    "import bittensor as bt\n",
    "import asyncio\n",
    "from bitmind.api.get_query_axons import get_query_api_axons\n",
    "\n",
    "\n",
    "\n",
    "BITMIND_NETUID = 168"
   ]
  },
  {
   "cell_type": "code",
   "execution_count": 2,
   "id": "b1499eea-acba-477b-a6f8-18ef7b785589",
   "metadata": {},
   "outputs": [],
   "source": [
    "def bitmind_api(wallet):\n",
    "    \n",
    "    get_axons_fn = get_query_api_axons(\n",
    "        wallet, metagraph=bt.metagraph(BITMIND_NETUID, network='test'), n=1, timeout=3)\n",
    "    axons = asyncio.run(get_axons_fn)\n",
    "    \n",
    "    print(axons)"
   ]
  },
  {
   "cell_type": "code",
   "execution_count": 3,
   "id": "2697515b-847b-44e6-84da-286f77b89eec",
   "metadata": {},
   "outputs": [],
   "source": [
    "wallet = bt.wallet('testnet_vali', 'default')\n"
   ]
  },
  {
   "cell_type": "code",
   "execution_count": 4,
   "id": "30a84466-cfcf-4987-a8f9-ce19c3a33367",
   "metadata": {},
   "outputs": [
    {
     "name": "stdout",
     "output_type": "stream",
     "text": [
      "{0, 1}\n",
      "[AxonInfo( /ipv4/23.127.77.194:8091, 5FPFGr9xWdyFfHgDbBRQEWtqLCed8j6oR3b7Mz6UcU6WWqmc, 5Cvk3JRphVXXrwtJXP3xnDz9UF371P8ndAKfFA4JDxmTucQV, 701 ), AxonInfo( /ipv4/98.115.241.67:47915, 5CewZSZYX6rGLPmgfbrqT4aAzjnJjrX9GggHDXMquQkP2o4R, 5E24Ny4yQEKByzfuyx3W4ydfZ9vGo8ZT34dpqVhji7CXAKv4, 701 )]\n",
      "ping() successful uids: []\n",
      "ping() failed uids    : [0, 1]\n",
      "Available API node UIDs for subnet 168: []\n",
      "[]\n"
     ]
    }
   ],
   "source": [
    "bitmind_api(wallet)"
   ]
  },
  {
   "cell_type": "code",
   "execution_count": 5,
   "id": "915a7606-257a-49b6-a392-1583a49bc295",
   "metadata": {},
   "outputs": [
    {
     "data": {
      "text/plain": [
       "[AxonInfo( /ipv4/23.127.77.194:8091, 5FPFGr9xWdyFfHgDbBRQEWtqLCed8j6oR3b7Mz6UcU6WWqmc, 5Cvk3JRphVXXrwtJXP3xnDz9UF371P8ndAKfFA4JDxmTucQV, 701 ),\n",
       " AxonInfo( /ipv4/98.115.241.67:47915, 5CewZSZYX6rGLPmgfbrqT4aAzjnJjrX9GggHDXMquQkP2o4R, 5E24Ny4yQEKByzfuyx3W4ydfZ9vGo8ZT34dpqVhji7CXAKv4, 701 ),\n",
       " AxonInfo( /ipv4/98.115.241.67:47916, 5E9zGd6PW21FhiJ8HBaTq45UE5Qb2KwwiPYug57FpxWwX5hd, 5E24Ny4yQEKByzfuyx3W4ydfZ9vGo8ZT34dpqVhji7CXAKv4, 701 ),\n",
       " AxonInfo( /ipv4/98.115.241.67:47919, 5HmDEx4XLc6PJPAkrHNbtsoi1mv3Cu5J26NkQypaQWrbV8j2, 5E24Ny4yQEKByzfuyx3W4ydfZ9vGo8ZT34dpqVhji7CXAKv4, 701 ),\n",
       " AxonInfo( /ipv4/98.115.241.67:47920, 5Gs6QdixySN8bfmHgQ1cfELPxhBTdhznLi64WWJrCEMiGGv2, 5E24Ny4yQEKByzfuyx3W4ydfZ9vGo8ZT34dpqVhji7CXAKv4, 701 ),\n",
       " AxonInfo( /ipv4/98.115.241.67:47906, 5FNqdi4R5qsN7y3kT8NfCzK4M56adYJduSKZDLh85sF2PHpo, 5E24Ny4yQEKByzfuyx3W4ydfZ9vGo8ZT34dpqVhji7CXAKv4, 701 )]"
      ]
     },
     "execution_count": 5,
     "metadata": {},
     "output_type": "execute_result"
    }
   ],
   "source": [
    "axons = bt.metagraph(BITMIND_NETUID, network='test').axons\n",
    "axons"
   ]
  },
  {
   "cell_type": "code",
   "execution_count": 6,
   "id": "8a6c3502-7fae-4b7f-b115-bfcb60d3f37d",
   "metadata": {},
   "outputs": [],
   "source": [
    "dendrite = bt.dendrite(wallet=wallet)\n"
   ]
  },
  {
   "cell_type": "code",
   "execution_count": 7,
   "id": "0a706fd0-6953-4d30-9766-c4ef3d519873",
   "metadata": {},
   "outputs": [],
   "source": [
    "from bitmind.protocol import ImageSynapse\n",
    "\n",
    "responses = await dendrite(\n",
    "            axons,\n",
    "            #bt.Synapse(),  # TODO: potentially get the synapses available back?\n",
    "            ImageSynapse(image='test', prediction=-1),\n",
    "            deserialize=False,\n",
    "            timeout=3,\n",
    "        )"
   ]
  },
  {
   "cell_type": "code",
   "execution_count": 8,
   "id": "3af0b395-11c3-482e-acf1-e53a8f075c99",
   "metadata": {},
   "outputs": [
    {
     "data": {
      "text/plain": [
       "dendrite(5CewZSZYX6rGLPmgfbrqT4aAzjnJjrX9GggHDXMquQkP2o4R)"
      ]
     },
     "execution_count": 8,
     "metadata": {},
     "output_type": "execute_result"
    }
   ],
   "source": [
    "dendrite"
   ]
  },
  {
   "cell_type": "code",
   "execution_count": 9,
   "id": "73007d8e-75b6-4753-9838-7bd297935a35",
   "metadata": {},
   "outputs": [
    {
     "data": {
      "text/plain": [
       "[408, 503, 200, 200, 200, 200]"
      ]
     },
     "execution_count": 9,
     "metadata": {},
     "output_type": "execute_result"
    }
   ],
   "source": [
    "[r.dendrite.status_code for r in responses]"
   ]
  },
  {
   "cell_type": "code",
   "execution_count": null,
   "id": "47cb8095-a373-4259-8f24-b2bd80a64f07",
   "metadata": {},
   "outputs": [],
   "source": []
  }
 ],
 "metadata": {
  "kernelspec": {
   "display_name": "bmsn",
   "language": "python",
   "name": "bmsn"
  },
  "language_info": {
   "codemirror_mode": {
    "name": "ipython",
    "version": 3
   },
   "file_extension": ".py",
   "mimetype": "text/x-python",
   "name": "python",
   "nbconvert_exporter": "python",
   "pygments_lexer": "ipython3",
   "version": "3.10.14"
  }
 },
 "nbformat": 4,
 "nbformat_minor": 5
}
