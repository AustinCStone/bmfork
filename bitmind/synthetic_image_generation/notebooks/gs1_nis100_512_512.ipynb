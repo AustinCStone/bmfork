{
 "cells": [
  {
   "cell_type": "code",
   "execution_count": 1,
   "id": "d09b52ed-d96d-498b-bc18-5f089694c322",
   "metadata": {},
   "outputs": [
    {
     "name": "stderr",
     "output_type": "stream",
     "text": [
      "2024-09-18 20:07:47.952217: I tensorflow/core/util/port.cc:153] oneDNN custom operations are on. You may see slightly different numerical results due to floating-point round-off errors from different computation orders. To turn them off, set the environment variable `TF_ENABLE_ONEDNN_OPTS=0`.\n",
      "2024-09-18 20:07:47.976914: E external/local_xla/xla/stream_executor/cuda/cuda_fft.cc:485] Unable to register cuFFT factory: Attempting to register factory for plugin cuFFT when one has already been registered\n",
      "2024-09-18 20:07:48.001908: E external/local_xla/xla/stream_executor/cuda/cuda_dnn.cc:8454] Unable to register cuDNN factory: Attempting to register factory for plugin cuDNN when one has already been registered\n",
      "2024-09-18 20:07:48.009464: E external/local_xla/xla/stream_executor/cuda/cuda_blas.cc:1452] Unable to register cuBLAS factory: Attempting to register factory for plugin cuBLAS when one has already been registered\n",
      "2024-09-18 20:07:48.031086: I tensorflow/core/platform/cpu_feature_guard.cc:210] This TensorFlow binary is optimized to use available CPU instructions in performance-critical operations.\n",
      "To enable the following instructions: AVX2 AVX512F AVX512_VNNI FMA, in other operations, rebuild TensorFlow with the appropriate compiler flags.\n",
      "2024-09-18 20:07:49.324635: W tensorflow/compiler/tf2tensorrt/utils/py_utils.cc:38] TF-TRT Warning: Could not find TensorRT\n"
     ]
    }
   ],
   "source": [
    "import huggingface_hub\n",
    "import os\n",
    "\n",
    "from bitmind.synthetic_image_generation.synthetic_image_generator import SyntheticImageGenerator\n",
    "from bitmind.image_dataset import ImageDataset\n",
    "from bitmind.utils.data import sample_dataset_index_name\n",
    "from bitmind.constants import DATASET_META, HUGGINGFACE_CACHE_DIR"
   ]
  },
  {
   "cell_type": "code",
   "execution_count": 2,
   "id": "1f642a4d-7188-44cb-bedd-91e320282957",
   "metadata": {},
   "outputs": [
    {
     "name": "stdout",
     "output_type": "stream",
     "text": [
      "Loading real datasets\n",
      "Downloading bitmind/open-images-v7 dataset...\n",
      "Downloaded bitmind/open-images-v7 dataset to /home/user/.cache/huggingface\n"
     ]
    }
   ],
   "source": [
    "print(\"Loading real datasets\")\n",
    "real_image_datasets = [\n",
    "    ImageDataset(ds['path'], 'train', ds.get('name', None), ds['create_splits'], 'REUSE_CACHE_IF_EXISTS')\n",
    "    for ds in DATASET_META['real'][:1]\n",
    "]\n"
   ]
  },
  {
   "cell_type": "code",
   "execution_count": 3,
   "id": "8b3594ff-7364-49f9-9380-02bae85ac371",
   "metadata": {},
   "outputs": [],
   "source": [
    "synthetic_image_generator = SyntheticImageGenerator(\n",
    "    prompt_type='annotation', \n",
    "    use_random_diffuser=False, \n",
    "    diffuser_name='black-forest-labs/FLUX.1-dev')"
   ]
  },
  {
   "cell_type": "code",
   "execution_count": null,
   "id": "eedfdb8f-9db2-424c-addd-08ad60f1831d",
   "metadata": {},
   "outputs": [
    {
     "name": "stderr",
     "output_type": "stream",
     "text": [
      "Unused kwargs: ['_load_in_4bit', '_load_in_8bit', 'quant_method']. These kwargs are not used in <class 'transformers.utils.quantization_config.BitsAndBytesConfig'>.\n"
     ]
    },
    {
     "name": "stdout",
     "output_type": "stream",
     "text": [
      "Annotation loading: 59.19315552711487\n",
      "Annotation gen: 4.476066589355469\n"
     ]
    },
    {
     "name": "stderr",
     "output_type": "stream",
     "text": [
      "Keyword arguments {'add_watermarker': False} are not expected by FluxPipeline and will be ignored.\n"
     ]
    },
    {
     "data": {
      "application/vnd.jupyter.widget-view+json": {
       "model_id": "725f6d9928024f7381509dfb92ea6df1",
       "version_major": 2,
       "version_minor": 0
      },
      "text/plain": [
       "Loading pipeline components...:   0%|          | 0/7 [00:00<?, ?it/s]"
      ]
     },
     "metadata": {},
     "output_type": "display_data"
    },
    {
     "name": "stderr",
     "output_type": "stream",
     "text": [
      "You set `add_prefix_space`. The tokenizer needs to be converted from the slow tokenizers\n"
     ]
    },
    {
     "name": "stdout",
     "output_type": "stream",
     "text": [
      "Diffuser loading: 67.2234160900116\n",
      "in generate_args\n",
      "{'guidance_scale': 2, 'num_inference_steps': 100, 'generator': <torch._C.Generator object at 0x7f9e32b02370>, 'height': 512, 'width': 512}\n"
     ]
    }
   ],
   "source": [
    "import matplotlib.pyplot as plt\n",
    "\n",
    "times = []\n",
    "\n",
    "for _ in range(5):\n",
    "    real_dataset_index, source_dataset = sample_dataset_index_name(real_image_datasets)\n",
    "    real_dataset = real_image_datasets[real_dataset_index]\n",
    "    images_to_caption, image_indexes = real_dataset.sample(k=1)  # [{'image': PIL Image ,'id': int}, ...]\n",
    "    \n",
    "    # generate captions for the real images, then synthetic images from these captions\n",
    "    sample = synthetic_image_generator.generate(\n",
    "        k=1, real_images=images_to_caption)[0]  # {'prompt': str, 'image': PIL Image ,'id': int}\n",
    "\n",
    "    print(sample['prompt'])\n",
    "    plt.imshow(sample['image'])\n",
    "    plt.show()\n",
    "\n",
    "    times.append(sample['gen_time'])"
   ]
  },
  {
   "cell_type": "code",
   "execution_count": null,
   "id": "7740035b-c947-4ba0-a691-495fe326006f",
   "metadata": {},
   "outputs": [],
   "source": [
    "import numpy as np\n",
    "np.mean(times), np.std(times)"
   ]
  },
  {
   "cell_type": "code",
   "execution_count": null,
   "id": "0e65e925-9810-4499-8dec-39d255bda037",
   "metadata": {},
   "outputs": [],
   "source": [
    "print('done')\n"
   ]
  },
  {
   "cell_type": "code",
   "execution_count": null,
   "id": "f8e44edb-7949-4b4e-83bc-2d44483e2937",
   "metadata": {},
   "outputs": [],
   "source": []
  },
  {
   "cell_type": "code",
   "execution_count": null,
   "id": "3ce4e782-f9bc-43ed-ac90-a3f667f54d18",
   "metadata": {},
   "outputs": [],
   "source": [
    "sample"
   ]
  },
  {
   "cell_type": "code",
   "execution_count": null,
   "id": "1ef4c914-2f14-417b-8ecd-96e4e0abcb67",
   "metadata": {},
   "outputs": [],
   "source": [
    "sample"
   ]
  },
  {
   "cell_type": "code",
   "execution_count": null,
   "id": "7602da2c-6408-48af-9aa4-b717bcfa9e83",
   "metadata": {},
   "outputs": [],
   "source": []
  }
 ],
 "metadata": {
  "kernelspec": {
   "display_name": "bitmind",
   "language": "python",
   "name": "bitmind"
  },
  "language_info": {
   "codemirror_mode": {
    "name": "ipython",
    "version": 3
   },
   "file_extension": ".py",
   "mimetype": "text/x-python",
   "name": "python",
   "nbconvert_exporter": "python",
   "pygments_lexer": "ipython3",
   "version": "3.10.14"
  }
 },
 "nbformat": 4,
 "nbformat_minor": 5
}
