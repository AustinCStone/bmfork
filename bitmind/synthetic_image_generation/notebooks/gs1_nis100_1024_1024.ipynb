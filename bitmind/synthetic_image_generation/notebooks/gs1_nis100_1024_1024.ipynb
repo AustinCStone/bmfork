{
 "cells": [
  {
   "cell_type": "code",
   "execution_count": 1,
   "id": "d09b52ed-d96d-498b-bc18-5f089694c322",
   "metadata": {},
   "outputs": [
    {
     "name": "stderr",
     "output_type": "stream",
     "text": [
      "2024-08-22 18:18:02.910670: I tensorflow/core/util/port.cc:153] oneDNN custom operations are on. You may see slightly different numerical results due to floating-point round-off errors from different computation orders. To turn them off, set the environment variable `TF_ENABLE_ONEDNN_OPTS=0`.\n",
      "2024-08-22 18:18:02.930432: E external/local_xla/xla/stream_executor/cuda/cuda_fft.cc:485] Unable to register cuFFT factory: Attempting to register factory for plugin cuFFT when one has already been registered\n",
      "2024-08-22 18:18:02.948804: E external/local_xla/xla/stream_executor/cuda/cuda_dnn.cc:8454] Unable to register cuDNN factory: Attempting to register factory for plugin cuDNN when one has already been registered\n",
      "2024-08-22 18:18:02.954313: E external/local_xla/xla/stream_executor/cuda/cuda_blas.cc:1452] Unable to register cuBLAS factory: Attempting to register factory for plugin cuBLAS when one has already been registered\n",
      "2024-08-22 18:18:02.968694: I tensorflow/core/platform/cpu_feature_guard.cc:210] This TensorFlow binary is optimized to use available CPU instructions in performance-critical operations.\n",
      "To enable the following instructions: AVX2 AVX512F AVX512_VNNI FMA, in other operations, rebuild TensorFlow with the appropriate compiler flags.\n",
      "2024-08-22 18:18:03.959577: W tensorflow/compiler/tf2tensorrt/utils/py_utils.cc:38] TF-TRT Warning: Could not find TensorRT\n"
     ]
    }
   ],
   "source": [
    "import huggingface_hub\n",
    "import os\n",
    "\n",
    "from bitmind.synthetic_image_generation.synthetic_image_generator import SyntheticImageGenerator\n",
    "from bitmind.image_dataset import ImageDataset\n",
    "from bitmind.utils.data import sample_dataset_index_name\n",
    "from bitmind.constants import DATASET_META, HUGGINGFACE_CACHE_DIR\n",
    "import time"
   ]
  },
  {
   "cell_type": "code",
   "execution_count": 2,
   "id": "1f642a4d-7188-44cb-bedd-91e320282957",
   "metadata": {},
   "outputs": [
    {
     "name": "stdout",
     "output_type": "stream",
     "text": [
      "Loading real datasets\n",
      "Downloading bitmind/open-images-v7 dataset...\n",
      "Downloaded bitmind/open-images-v7 dataset to /workspace/.cache/huggingface\n"
     ]
    }
   ],
   "source": [
    "print(\"Loading real datasets\")\n",
    "real_image_datasets = [\n",
    "    ImageDataset(ds['path'], 'train', ds.get('name', None), ds['create_splits'], 'REUSE_CACHE_IF_EXISTS')\n",
    "    for ds in DATASET_META['real'][:1]\n",
    "]\n"
   ]
  },
  {
   "cell_type": "code",
   "execution_count": 3,
   "id": "8b3594ff-7364-49f9-9380-02bae85ac371",
   "metadata": {},
   "outputs": [
    {
     "name": "stdout",
     "output_type": "stream",
     "text": [
      "Loading meta-llama/Meta-Llama-3.1-8B-Instruct\n",
      "Done loading moderation pipeline\n",
      "Initialization of SyntheticImageGenerator took 28.44 seconds.\n"
     ]
    }
   ],
   "source": [
    "start_time = time.time()\n",
    "synthetic_image_generator = SyntheticImageGenerator(\n",
    "    prompt_type='annotation', \n",
    "    use_random_diffuser=False, \n",
    "    diffuser_name='black-forest-labs/FLUX.1-dev')\n",
    "\n",
    "end_time = time.time()\n",
    "\n",
    "elapsed_time = end_time - start_time\n",
    "print(f\"Initialization of SyntheticImageGenerator took {elapsed_time:.2f} seconds.\")"
   ]
  },
  {
   "cell_type": "code",
   "execution_count": null,
   "id": "eedfdb8f-9db2-424c-addd-08ad60f1831d",
   "metadata": {},
   "outputs": [],
   "source": [
    "import matplotlib.pyplot as plt\n",
    "\n",
    "times = []\n",
    "\n",
    "for _ in range(5):\n",
    "    real_dataset_index, source_dataset = sample_dataset_index_name(real_image_datasets)\n",
    "    real_dataset = real_image_datasets[real_dataset_index]\n",
    "    images_to_caption, image_indexes = real_dataset.sample(k=1)  # [{'image': PIL Image ,'id': int}, ...]\n",
    "    \n",
    "    # generate captions for the real images, then synthetic images from these captions\n",
    "    sample = synthetic_image_generator.generate(\n",
    "        k=1, real_images=images_to_caption)[0]  # {'prompt': str, 'image': PIL Image ,'id': int}\n",
    "\n",
    "    print(sample['prompt'])\n",
    "    plt.imshow(sample['image'])\n",
    "    plt.show()\n",
    "\n",
    "    times.append(sample['gen_time'])"
   ]
  },
  {
   "cell_type": "code",
   "execution_count": null,
   "id": "7740035b-c947-4ba0-a691-495fe326006f",
   "metadata": {},
   "outputs": [],
   "source": [
    "import numpy as np\n",
    "np.mean(times), np.std(times)"
   ]
  },
  {
   "cell_type": "code",
   "execution_count": null,
   "id": "2bb03ae9-64ad-44c4-85ae-b55183017caa",
   "metadata": {},
   "outputs": [],
   "source": [
    "sample['image'].size"
   ]
  },
  {
   "cell_type": "code",
   "execution_count": null,
   "id": "0e65e925-9810-4499-8dec-39d255bda037",
   "metadata": {},
   "outputs": [],
   "source": [
    "from bitmind.constants import VALIDATOR_MODEL_META\n",
    "\n",
    "VALIDATOR_MODEL_META\n"
   ]
  },
  {
   "cell_type": "code",
   "execution_count": null,
   "id": "3ce4e782-f9bc-43ed-ac90-a3f667f54d18",
   "metadata": {},
   "outputs": [],
   "source": [
    "sample"
   ]
  },
  {
   "cell_type": "code",
   "execution_count": null,
   "id": "1ef4c914-2f14-417b-8ecd-96e4e0abcb67",
   "metadata": {},
   "outputs": [],
   "source": [
    "sample"
   ]
  },
  {
   "cell_type": "code",
   "execution_count": null,
   "id": "100ab865-9133-4728-8de4-e33b7bb485fc",
   "metadata": {},
   "outputs": [],
   "source": [
    "import transformers\n",
    "print(transformers.__version__)"
   ]
  },
  {
   "cell_type": "code",
   "execution_count": null,
   "id": "25009ca9-ea78-4e65-bc24-afb7001f2cb9",
   "metadata": {},
   "outputs": [],
   "source": []
  },
  {
   "cell_type": "code",
   "execution_count": null,
   "id": "6b898c08-83ef-4725-8764-8492d8759960",
   "metadata": {},
   "outputs": [],
   "source": []
  }
 ],
 "metadata": {
  "kernelspec": {
   "display_name": "bitmind",
   "language": "python",
   "name": "bitmind"
  },
  "language_info": {
   "codemirror_mode": {
    "name": "ipython",
    "version": 3
   },
   "file_extension": ".py",
   "mimetype": "text/x-python",
   "name": "python",
   "nbconvert_exporter": "python",
   "pygments_lexer": "ipython3",
   "version": "3.10.14"
  }
 },
 "nbformat": 4,
 "nbformat_minor": 5
}
