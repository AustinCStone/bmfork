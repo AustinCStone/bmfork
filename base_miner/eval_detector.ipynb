{
 "cells": [
  {
   "cell_type": "code",
   "execution_count": 1,
   "id": "629535aa-f994-498d-830c-0c04b270df39",
   "metadata": {},
   "outputs": [
    {
     "name": "stderr",
     "output_type": "stream",
     "text": [
      "/home/user/mambaforge/envs/bmsn/lib/python3.10/site-packages/tqdm/auto.py:21: TqdmWarning: IProgress not found. Please update jupyter and ipywidgets. See https://ipywidgets.readthedocs.io/en/stable/user_install.html\n",
      "  from .autonotebook import tqdm as notebook_tqdm\n"
     ]
    },
    {
     "name": "stdout",
     "output_type": "stream",
     "text": [
      "{'Gustavosta/MagicPrompt-Stable-Diffusion': {'model': 'Gustavosta/MagicPrompt-Stable-Diffusion', 'tokenizer': 'gpt2', 'device': -1}}\n",
      "{'stabilityai/stable-diffusion-xl-base-1.0': {'use_safetensors': True, 'variant': 'fp16'}, 'SG161222/RealVisXL_V4.0': {'use_safetensors': True, 'variant': 'fp16'}, 'Corcelio/mobius': {'use_safetensors': True}}\n"
     ]
    }
   ],
   "source": [
    "from tensorboardX import SummaryWriter\n",
    "from validate import validate\n",
    "from networks.trainer import Trainer\n",
    "from torch.utils.data import DataLoader\n",
    "import numpy as np\n",
    "import os\n",
    "import time\n",
    "import random\n",
    "import torch\n",
    "\n",
    "#from base_miner.util import Logger\n",
    "from util.data import load_datasets, create_real_fake_datasets\n",
    "from options import TrainOptions"
   ]
  },
  {
   "cell_type": "code",
   "execution_count": 2,
   "id": "7b73a712-8ab2-44d0-b1a5-acff8edf2613",
   "metadata": {},
   "outputs": [
    {
     "name": "stdout",
     "output_type": "stream",
     "text": [
      "----------------- Options ---------------\n",
      "                     arch: res50                         \n",
      "               batch_size: 64                            \n",
      "                    beta1: 0.9                           \n",
      "                blur_prob: 0                             \n",
      "                 blur_sig: 0.5                           \n",
      "          checkpoints_dir: ./checkpoints                 \n",
      "                class_bal: False                         \n",
      "                  classes:                               \n",
      "           continue_train: False                         \n",
      "                 cropSize: 224                           \n",
      "                 data_aug: False                         \n",
      "                 dataroot: ./dataset/                    \n",
      "                delr_freq: 20                            \n",
      "          earlystop_epoch: 15                            \n",
      "                    epoch: latest                        \n",
      "              epoch_count: 1                             \n",
      "                  gpu_ids: 0                             \n",
      "                init_gain: 0.02                          \n",
      "                init_type: normal                        \n",
      "                  isTrain: True                          \t[default: None]\n",
      "               jpg_method: cv2                           \n",
      "                 jpg_prob: 0                             \n",
      "                 jpg_qual: 75                            \n",
      "               last_epoch: -1                            \n",
      "                 loadSize: 256                           \n",
      "                loss_freq: 400                           \n",
      "                       lr: 0.0001                        \n",
      "                     mode: binary                        \n",
      "                     name: experiment_name2024_06_11_03_38_57\t[default: experiment_name]\n",
      "                new_optim: False                         \n",
      "                    niter: 1000                          \n",
      "                  no_flip: False                         \n",
      "              num_threads: 8                             \n",
      "                    optim: adam                          \n",
      "           resize_or_crop: scale_and_crop                \n",
      "                rz_interp: bilinear                      \n",
      "          save_epoch_freq: 20                            \n",
      "         save_latest_freq: 2000                          \n",
      "           serial_batches: False                         \n",
      "                   suffix:                               \n",
      "              train_split: train                         \n",
      "                val_split: val                           \n",
      "----------------- End -------------------\n"
     ]
    }
   ],
   "source": [
    "opt = TrainOptions().parse()\n",
    "\n",
    "model = Trainer(opt)\n",
    "weight_path = '../mining_models/model_epoch_best.pth'\n",
    "model.model.load_state_dict(torch.load(weight_path, map_location='cpu'))\n",
    "model.model.eval();"
   ]
  },
  {
   "cell_type": "code",
   "execution_count": 4,
   "id": "8eed7441-571d-4618-aa76-060f50cc5276",
   "metadata": {},
   "outputs": [
    {
     "name": "stdout",
     "output_type": "stream",
     "text": [
      "[{'path': 'poloclub/diffusiondb', 'name': 'large_first_50k', 'create_splits': True}]\n",
      "Loading poloclub/diffusiondb[train] ... "
     ]
    },
    {
     "name": "stderr",
     "output_type": "stream",
     "text": [
      "/home/user/mambaforge/envs/bmsn/lib/python3.10/site-packages/datasets/load.py:1461: FutureWarning: The repository for poloclub/diffusiondb contains custom code which must be executed to correctly load the dataset. You can inspect the repository content at https://hf.co/datasets/poloclub/diffusiondb\n",
      "You can avoid this message in future by passing the argument `trust_remote_code=True`.\n",
      "Passing `trust_remote_code=True` will be mandatory to load this dataset from the next major release of `datasets`.\n",
      "  warnings.warn(\n"
     ]
    },
    {
     "name": "stdout",
     "output_type": "stream",
     "text": [
      "done, len=40000\n",
      "Loading poloclub/diffusiondb[validation] ... done, len=5000\n",
      "Loading poloclub/diffusiondb[test] ... done, len=5000\n",
      "Loading dalle-mini/open-images[train] ... done, len=9011219\n",
      "Loading merkol/ffhq-256[train] ... done, len=56000\n",
      "Loading jlbaker361/flickr_humans_20k[train] ... done, len=16000\n",
      "Loading saitsharipov/CelebA-HQ[train] ... done, len=162079\n",
      "Loading dalle-mini/open-images[validation] ... done, len=41620\n",
      "Loading merkol/ffhq-256[validation] ... done, len=7000\n",
      "Loading jlbaker361/flickr_humans_20k[validation] ... done, len=2000\n",
      "Loading saitsharipov/CelebA-HQ[validation] ... done, len=20260\n",
      "Loading dalle-mini/open-images[test] ... done, len=125436\n",
      "Loading merkol/ffhq-256[test] ... done, len=7000\n",
      "Loading jlbaker361/flickr_humans_20k[test] ... done, len=2000\n",
      "Loading saitsharipov/CelebA-HQ[test] ... done, len=20260\n"
     ]
    }
   ],
   "source": [
    "from bitmind.constants import DATASET_META\n",
    "\n",
    "real_datasets, fake_datasets = load_datasets(DATASET_META)\n",
    "train_dataset, val_dataset, test_dataset = create_real_fake_datasets(real_datasets, fake_datasets)\n"
   ]
  },
  {
   "cell_type": "code",
   "execution_count": null,
   "id": "ed1f861d-ff15-45ab-a7f0-5307129f6a34",
   "metadata": {},
   "outputs": [],
   "source": [
    "from bitmind.real_fake_dataset import RealFakeDataset\n",
    "from bitmind.image_dataset import ImageDataset\n",
    "from bitmind.image_transforms import base_transforms\n",
    "\n",
    "bm_ds = ImageDataset('bitmind/RealVisXL_V4.0_images', 'train', None, True, None)\n",
    "ds = RealFakeDataset([bm_ds], [bm_ds], fake_prob=0, transforms=base_transforms)\n",
    "test_loader = DataLoader(\n",
    "    ds, batch_size=32, shuffle=False, num_workers=0, collate_fn=lambda d: tuple(d))\n",
    "\n"
   ]
  },
  {
   "cell_type": "code",
   "execution_count": 5,
   "id": "1efaabda-c40b-4050-983f-189ccda16d77",
   "metadata": {},
   "outputs": [],
   "source": [
    "train_loader = DataLoader(\n",
    "    train_dataset, batch_size=32, shuffle=True, num_workers=0, collate_fn=lambda d: tuple(d))\n",
    "val_loader = DataLoader(\n",
    "    val_dataset, batch_size=32, shuffle=False, num_workers=0, collate_fn=lambda d: tuple(d))\n",
    "test_loader = DataLoader(\n",
    "    test_dataset, batch_size=32, shuffle=False, num_workers=0, collate_fn=lambda d: tuple(d))\n",
    "\n"
   ]
  },
  {
   "cell_type": "code",
   "execution_count": 6,
   "id": "9d19c3b7-5f92-4bcd-8912-9c1cda6523c1",
   "metadata": {},
   "outputs": [
    {
     "name": "stdout",
     "output_type": "stream",
     "text": [
      "(Test) acc: 0.9555; ap: 0.9920430338580721\n"
     ]
    }
   ],
   "source": [
    "model.eval()\n",
    "acc, ap, r_acc, f_acc, y_true, y_pred = validate(model.model, test_loader)\n",
    "print(\"(Test) acc: {}; ap: {}\".format(acc, ap))"
   ]
  },
  {
   "cell_type": "code",
   "execution_count": null,
   "id": "56a9bb7f-72d7-492f-b00c-bf63b1385184",
   "metadata": {},
   "outputs": [],
   "source": [
    "from sklearn.metrics import average_precision_score, precision_recall_curve, accuracy_score\n",
    "import matplotlib.pyplot as plt\n",
    "\n",
    "pred_idx = 0\n",
    "test_loader.dataset.reset()\n",
    "with torch.no_grad():\n",
    "    y_true, y_pred = [], []\n",
    "    for batch in test_loader:\n",
    "        keep_idx = [i for i, b in enumerate(batch) if b[0].shape[0] == batch[0][0].shape[0]]\n",
    "        # batch = np.array(batch)\n",
    "        inputs = torch.stack([b[0] for i, b in enumerate(batch) if i in keep_idx])\n",
    "        labels = torch.stack([torch.tensor(b[1]) for i, b in enumerate(batch) if i in keep_idx])\n",
    "        img, label = inputs.to('cuda').float(), labels.to('cuda').float()\n",
    "\n",
    "        out = model.model(img).sigmoid().flatten().tolist()\n",
    "        y_pred.extend(out)\n",
    "        y_true.extend(label.flatten().tolist())\n",
    "\n",
    "        for y, y_hat, img, idx in zip(label.flatten().tolist(), out, img, keep_idx):\n",
    "            if y != np.round(y_hat):\n",
    "                plt.imshow(img.cpu().permute(1,2,0).numpy())\n",
    "                plt.show()\n",
    "                img_id = test_loader.dataset._history['index'][pred_idx + idx]\n",
    "                img_source = test_loader.dataset._history['source'][pred_idx + idx]\n",
    "                print(f\"source: {img_source}; id: {img_id}; Label: {y}; Prediction: {y_hat}\")\n",
    "        pred_idx += len(keep_idx)\n",
    "\n",
    "y_true, y_pred = np.array(y_true), np.array(y_pred)\n",
    "r_acc = accuracy_score(y_true[y_true==0], y_pred[y_true==0] > 0.5)\n",
    "f_acc = accuracy_score(y_true[y_true==1], y_pred[y_true==1] > 0.5)\n",
    "acc = accuracy_score(y_true, y_pred > 0.5)\n",
    "ap = average_precision_score(y_true, y_pred)\n"
   ]
  },
  {
   "cell_type": "code",
   "execution_count": null,
   "id": "ff2afd82-1634-4bcd-a8f6-dddc1a2fd8a8",
   "metadata": {},
   "outputs": [],
   "source": [
    "def compute_metrics(TP, FP, TN, FN):\n",
    "    precision = TP / (TP + FP) if (TP + FP) != 0 else 0\n",
    "    recall = TP / (TP + FN) if (TP + FN) != 0 else 0\n",
    "    if (precision + recall) == 0:\n",
    "        f1_score = 0\n",
    "    else:\n",
    "        f1_score = 2 * (precision * recall) / (precision + recall)\n",
    "    \n",
    "    return precision, recall, f1_score"
   ]
  },
  {
   "cell_type": "code",
   "execution_count": null,
   "id": "e9d5ff1d-9154-4956-be09-70e288183e99",
   "metadata": {},
   "outputs": [],
   "source": [
    "tp = sum(y_pred[y_true==1] > 0.5)\n",
    "fp = sum(y_pred[y_true==0] > 0.5)\n",
    "tn = sum(y_pred[y_true==0] <= 0.5)\n",
    "fn = sum(y_pred[y_true==1] <= 0.5)\n",
    "tp, fp, tn, fn"
   ]
  },
  {
   "cell_type": "code",
   "execution_count": null,
   "id": "6cde9da5-fca2-4668-b7d8-1c6a4e1204b7",
   "metadata": {},
   "outputs": [],
   "source": [
    "compute_metrics(tp, fp, tn, fn)"
   ]
  },
  {
   "cell_type": "code",
   "execution_count": null,
   "id": "390e1540-57ba-4858-88a8-f68f832ee1df",
   "metadata": {},
   "outputs": [],
   "source": [
    "len(test_loader), len(test_dataset)"
   ]
  },
  {
   "cell_type": "code",
   "execution_count": null,
   "id": "a255e4f0-7d3a-4e45-97d9-996dc3effb56",
   "metadata": {},
   "outputs": [],
   "source": []
  }
 ],
 "metadata": {
  "kernelspec": {
   "display_name": "Python 3 (ipykernel)",
   "language": "python",
   "name": "python3"
  },
  "language_info": {
   "codemirror_mode": {
    "name": "ipython",
    "version": 3
   },
   "file_extension": ".py",
   "mimetype": "text/x-python",
   "name": "python",
   "nbconvert_exporter": "python",
   "pygments_lexer": "ipython3",
   "version": "3.10.14"
  }
 },
 "nbformat": 4,
 "nbformat_minor": 5
}
