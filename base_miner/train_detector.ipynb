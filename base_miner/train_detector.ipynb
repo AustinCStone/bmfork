{
 "cells": [
  {
   "cell_type": "code",
   "execution_count": 1,
   "id": "a5214826-521c-43ba-ae33-cc2b4e4296fd",
   "metadata": {},
   "outputs": [
    {
     "name": "stderr",
     "output_type": "stream",
     "text": [
      "/home/user/mambaforge/envs/bmsn/lib/python3.10/site-packages/tqdm/auto.py:21: TqdmWarning: IProgress not found. Please update jupyter and ipywidgets. See https://ipywidgets.readthedocs.io/en/stable/user_install.html\n",
      "  from .autonotebook import tqdm as notebook_tqdm\n"
     ]
    }
   ],
   "source": [
    "from tensorboardX import SummaryWriter\n",
    "from validate import validate\n",
    "from networks.trainer import Trainer\n",
    "from torch.utils.data import DataLoader\n",
    "import numpy as np\n",
    "import os\n",
    "import time\n",
    "import random\n",
    "import torch\n",
    "\n",
    "#from base_miner.util import Logger\n",
    "from bitmind.image_transforms import base_transforms, random_image_transforms\n",
    "from util.data import load_datasets, create_real_fake_datasets\n",
    "from options import TrainOptions\n",
    "\n",
    "\n",
    "def seed_torch(seed=1029):\n",
    "    random.seed(seed)\n",
    "    os.environ['PYTHONHASHSEED'] = str(seed)\n",
    "    np.random.seed(seed)\n",
    "    torch.manual_seed(seed)\n",
    "    torch.cuda.manual_seed(seed)\n",
    "    torch.cuda.manual_seed_all(seed) # if you are using multi-GPU.\n",
    "    torch.backends.cudnn.benchmark = False\n",
    "    torch.backends.cudnn.deterministic = True\n",
    "    torch.backends.cudnn.enabled = False\n",
    "\n"
   ]
  },
  {
   "cell_type": "code",
   "execution_count": 2,
   "id": "d887887d-d8bd-4034-a394-9bec29b99428",
   "metadata": {
    "scrolled": true
   },
   "outputs": [
    {
     "name": "stdout",
     "output_type": "stream",
     "text": [
      "----------------- Options ---------------\n",
      "                     arch: res50                         \n",
      "               batch_size: 64                            \n",
      "                    beta1: 0.9                           \n",
      "                blur_prob: 0                             \n",
      "                 blur_sig: 0.5                           \n",
      "          checkpoints_dir: ./checkpoints                 \n",
      "                class_bal: False                         \n",
      "                  classes:                               \n",
      "           continue_train: False                         \n",
      "                 cropSize: 224                           \n",
      "                 data_aug: False                         \n",
      "                 dataroot: ./dataset/                    \n",
      "                delr_freq: 20                            \n",
      "          earlystop_epoch: 15                            \n",
      "                    epoch: latest                        \n",
      "              epoch_count: 1                             \n",
      "                  gpu_ids: 0                             \n",
      "                init_gain: 0.02                          \n",
      "                init_type: normal                        \n",
      "                  isTrain: True                          \t[default: None]\n",
      "               jpg_method: cv2                           \n",
      "                 jpg_prob: 0                             \n",
      "                 jpg_qual: 75                            \n",
      "               last_epoch: -1                            \n",
      "                 loadSize: 256                           \n",
      "                loss_freq: 400                           \n",
      "                       lr: 0.0001                        \n",
      "                     mode: binary                        \n",
      "                     name: experiment_name2024_06_19_19_16_32\t[default: experiment_name]\n",
      "                new_optim: False                         \n",
      "                    niter: 1000                          \n",
      "                  no_flip: False                         \n",
      "              num_threads: 8                             \n",
      "                    optim: adam                          \n",
      "           resize_or_crop: scale_and_crop                \n",
      "                rz_interp: bilinear                      \n",
      "          save_epoch_freq: 20                            \n",
      "         save_latest_freq: 2000                          \n",
      "           serial_batches: False                         \n",
      "                   suffix:                               \n",
      "              train_split: train                         \n",
      "                val_split: val                           \n",
      "----------------- End -------------------\n",
      "Loading bitmind/RealVisXL_V4.0_images[train] ... done, len=2352\n",
      "Loading bitmind/face-swap[train] ... done, len=8076\n",
      "Loading poloclub/diffusiondb[train] ... done, len=8000\n",
      "Loading bitmind/RealVisXL_V4.0_images[validation] ... done, len=294\n",
      "Loading bitmind/face-swap[validation] ... done, len=1010\n",
      "Loading poloclub/diffusiondb[validation] ... done, len=1000\n",
      "Loading bitmind/RealVisXL_V4.0_images[test] ... done, len=294\n",
      "Loading bitmind/face-swap[test] ... done, len=1010\n",
      "Loading poloclub/diffusiondb[test] ... done, len=1000\n",
      "Loading dalle-mini/open-images[train] ... done, len=9011219\n",
      "Loading merkol/ffhq-256[train] ... done, len=56000\n",
      "Loading jlbaker361/flickr_humans_20k[train] ... done, len=16000\n",
      "Loading saitsharipov/CelebA-HQ[train] ... done, len=162079\n",
      "Loading dalle-mini/open-images[validation] ... done, len=41620\n",
      "Loading merkol/ffhq-256[validation] ... done, len=7000\n",
      "Loading jlbaker361/flickr_humans_20k[validation] ... done, len=2000\n",
      "Loading saitsharipov/CelebA-HQ[validation] ... done, len=20260\n",
      "Loading dalle-mini/open-images[test] ... done, len=125436\n",
      "Loading merkol/ffhq-256[test] ... done, len=7000\n",
      "Loading jlbaker361/flickr_humans_20k[test] ... done, len=2000\n",
      "Loading saitsharipov/CelebA-HQ[test] ... done, len=20260\n"
     ]
    },
    {
     "data": {
      "text/plain": [
       "(2352, 294, 294)"
      ]
     },
     "execution_count": 2,
     "metadata": {},
     "output_type": "execute_result"
    }
   ],
   "source": [
    "opt = TrainOptions().parse()\n",
    "seed_torch(100)\n",
    "\n",
    "#Logger(os.path.join(opt.checkpoints_dir, opt.name, 'log.log'))\n",
    "\n",
    "train_writer = SummaryWriter(os.path.join(opt.checkpoints_dir, opt.name, \"train\"))\n",
    "val_writer = SummaryWriter(os.path.join(opt.checkpoints_dir, opt.name, \"val\"))\n",
    "\n",
    "real_datasets, fake_datasets = load_datasets()\n",
    "train_dataset, val_dataset, test_dataset = create_real_fake_datasets(\n",
    "    real_datasets, fake_datasets, base_transforms, random_image_transforms)\n",
    "\n",
    "train_loader = DataLoader(\n",
    "    train_dataset, batch_size=32, shuffle=True, num_workers=0, collate_fn=lambda d: tuple(d))\n",
    "val_loader = DataLoader(\n",
    "    val_dataset, batch_size=32, shuffle=False, num_workers=0, collate_fn=lambda d: tuple(d))\n",
    "test_loader = DataLoader(\n",
    "    test_dataset, batch_size=32, shuffle=False, num_workers=0, collate_fn=lambda d: tuple(d))\n",
    "\n",
    "# RealFakeDataseta will limit the number of images sampled per dataset to the length of the smallest dataset\n",
    "len(train_dataset), len(val_dataset), len(test_dataset)"
   ]
  },
  {
   "cell_type": "code",
   "execution_count": null,
   "id": "d5d24a8e-3217-48b2-a233-1b29d0d6c3eb",
   "metadata": {},
   "outputs": [],
   "source": []
  },
  {
   "cell_type": "code",
   "execution_count": 3,
   "id": "184fda9e-0397-4037-89bf-bfc5177af3e6",
   "metadata": {},
   "outputs": [
    {
     "name": "stdout",
     "output_type": "stream",
     "text": [
      "cwd: /home/user/bitmind-subnet/base_miner\n"
     ]
    },
    {
     "data": {
      "text/html": [
       "<pre style=\"white-space:pre;overflow-x:auto;line-height:normal;font-family:Menlo,'DejaVu Sans Mono',consolas,'Courier New',monospace\"><span style=\"color: #800000; text-decoration-color: #800000\">╭─────────────────────────────── </span><span style=\"color: #800000; text-decoration-color: #800000; font-weight: bold\">Traceback </span><span style=\"color: #bf7f7f; text-decoration-color: #bf7f7f; font-weight: bold\">(most recent call last)</span><span style=\"color: #800000; text-decoration-color: #800000\"> ────────────────────────────────╮</span>\n",
       "<span style=\"color: #800000; text-decoration-color: #800000\">│</span> in <span style=\"color: #00ff00; text-decoration-color: #00ff00\">&lt;module&gt;</span>:<span style=\"color: #0000ff; text-decoration-color: #0000ff\">17</span>                                                                                   <span style=\"color: #800000; text-decoration-color: #800000\">│</span>\n",
       "<span style=\"color: #800000; text-decoration-color: #800000\">│</span>                                                                                                  <span style=\"color: #800000; text-decoration-color: #800000\">│</span>\n",
       "<span style=\"color: #800000; text-decoration-color: #800000\">│</span>   <span style=\"color: #7f7f7f; text-decoration-color: #7f7f7f\">14 </span><span style=\"color: #7f7f7f; text-decoration-color: #7f7f7f\">│   │   </span>                                                                                    <span style=\"color: #800000; text-decoration-color: #800000\">│</span>\n",
       "<span style=\"color: #800000; text-decoration-color: #800000\">│</span>   <span style=\"color: #7f7f7f; text-decoration-color: #7f7f7f\">15 </span><span style=\"color: #7f7f7f; text-decoration-color: #7f7f7f\">│   │   </span><span style=\"color: #0000ff; text-decoration-color: #0000ff\">if</span> step % display_loss_steps == <span style=\"color: #0000ff; text-decoration-color: #0000ff\">0</span>:                                                  <span style=\"color: #800000; text-decoration-color: #800000\">│</span>\n",
       "<span style=\"color: #800000; text-decoration-color: #800000\">│</span>   <span style=\"color: #7f7f7f; text-decoration-color: #7f7f7f\">16 </span><span style=\"color: #7f7f7f; text-decoration-color: #7f7f7f\">│   │   │   </span>ts = time.strftime(<span style=\"color: #808000; text-decoration-color: #808000\">\"%Y_%m_%d_%H_%M_%S\"</span>, time.localtime())                       <span style=\"color: #800000; text-decoration-color: #800000\">│</span>\n",
       "<span style=\"color: #800000; text-decoration-color: #800000\">│</span> <span style=\"color: #800000; text-decoration-color: #800000\">❱ </span>17 <span style=\"color: #7f7f7f; text-decoration-color: #7f7f7f\">│   │   │   </span><span style=\"color: #00ffff; text-decoration-color: #00ffff\">print</span>(<span style=\"color: #808000; text-decoration-color: #808000\">f\"{</span>ts<span style=\"color: #808000; text-decoration-color: #808000\">} | Step: {</span>step<span style=\"color: #808000; text-decoration-color: #808000\">} ({</span>model.total_steps<span style=\"color: #808000; text-decoration-color: #808000\">}) | Train loss: {</span>model.loss<span style=\"color: #808000; text-decoration-color: #808000\">}</span>    <span style=\"color: #800000; text-decoration-color: #800000\">│</span>\n",
       "<span style=\"color: #800000; text-decoration-color: #800000\">│</span>   <span style=\"color: #7f7f7f; text-decoration-color: #7f7f7f\">18 </span><span style=\"color: #7f7f7f; text-decoration-color: #7f7f7f\">│   │   </span>                                                                                    <span style=\"color: #800000; text-decoration-color: #800000\">│</span>\n",
       "<span style=\"color: #800000; text-decoration-color: #800000\">│</span>   <span style=\"color: #7f7f7f; text-decoration-color: #7f7f7f\">19 </span><span style=\"color: #7f7f7f; text-decoration-color: #7f7f7f\">│   │   </span><span style=\"color: #0000ff; text-decoration-color: #0000ff\">if</span> model.total_steps % opt.loss_freq == <span style=\"color: #0000ff; text-decoration-color: #0000ff\">0</span>:                                          <span style=\"color: #800000; text-decoration-color: #800000\">│</span>\n",
       "<span style=\"color: #800000; text-decoration-color: #800000\">│</span>   <span style=\"color: #7f7f7f; text-decoration-color: #7f7f7f\">20 </span><span style=\"color: #7f7f7f; text-decoration-color: #7f7f7f\">│   │   │   </span>train_writer.add_scalar(<span style=\"color: #808000; text-decoration-color: #808000\">'loss'</span>, model.loss, model.total_steps)                  <span style=\"color: #800000; text-decoration-color: #800000\">│</span>\n",
       "<span style=\"color: #800000; text-decoration-color: #800000\">╰──────────────────────────────────────────────────────────────────────────────────────────────────╯</span>\n",
       "<span style=\"color: #ff0000; text-decoration-color: #ff0000; font-weight: bold\">NameError: </span>name <span style=\"color: #008000; text-decoration-color: #008000\">'lr'</span> is not defined\n",
       "</pre>\n"
      ],
      "text/plain": [
       "\u001b[31m╭─\u001b[0m\u001b[31m──────────────────────────────\u001b[0m\u001b[31m \u001b[0m\u001b[1;31mTraceback \u001b[0m\u001b[1;2;31m(most recent call last)\u001b[0m\u001b[31m \u001b[0m\u001b[31m───────────────────────────────\u001b[0m\u001b[31m─╮\u001b[0m\n",
       "\u001b[31m│\u001b[0m in \u001b[92m<module>\u001b[0m:\u001b[94m17\u001b[0m                                                                                   \u001b[31m│\u001b[0m\n",
       "\u001b[31m│\u001b[0m                                                                                                  \u001b[31m│\u001b[0m\n",
       "\u001b[31m│\u001b[0m   \u001b[2m14 \u001b[0m\u001b[2m│   │   \u001b[0m                                                                                    \u001b[31m│\u001b[0m\n",
       "\u001b[31m│\u001b[0m   \u001b[2m15 \u001b[0m\u001b[2m│   │   \u001b[0m\u001b[94mif\u001b[0m step % display_loss_steps == \u001b[94m0\u001b[0m:                                                  \u001b[31m│\u001b[0m\n",
       "\u001b[31m│\u001b[0m   \u001b[2m16 \u001b[0m\u001b[2m│   │   │   \u001b[0mts = time.strftime(\u001b[33m\"\u001b[0m\u001b[33m%\u001b[0m\u001b[33mY_\u001b[0m\u001b[33m%\u001b[0m\u001b[33mm_\u001b[0m\u001b[33m%d\u001b[0m\u001b[33m_\u001b[0m\u001b[33m%\u001b[0m\u001b[33mH_\u001b[0m\u001b[33m%\u001b[0m\u001b[33mM_\u001b[0m\u001b[33m%\u001b[0m\u001b[33mS\u001b[0m\u001b[33m\"\u001b[0m, time.localtime())                       \u001b[31m│\u001b[0m\n",
       "\u001b[31m│\u001b[0m \u001b[31m❱ \u001b[0m17 \u001b[2m│   │   │   \u001b[0m\u001b[96mprint\u001b[0m(\u001b[33mf\u001b[0m\u001b[33m\"\u001b[0m\u001b[33m{\u001b[0mts\u001b[33m}\u001b[0m\u001b[33m | Step: \u001b[0m\u001b[33m{\u001b[0mstep\u001b[33m}\u001b[0m\u001b[33m (\u001b[0m\u001b[33m{\u001b[0mmodel.total_steps\u001b[33m}\u001b[0m\u001b[33m) | Train loss: \u001b[0m\u001b[33m{\u001b[0mmodel.loss\u001b[33m}\u001b[0m    \u001b[31m│\u001b[0m\n",
       "\u001b[31m│\u001b[0m   \u001b[2m18 \u001b[0m\u001b[2m│   │   \u001b[0m                                                                                    \u001b[31m│\u001b[0m\n",
       "\u001b[31m│\u001b[0m   \u001b[2m19 \u001b[0m\u001b[2m│   │   \u001b[0m\u001b[94mif\u001b[0m model.total_steps % opt.loss_freq == \u001b[94m0\u001b[0m:                                          \u001b[31m│\u001b[0m\n",
       "\u001b[31m│\u001b[0m   \u001b[2m20 \u001b[0m\u001b[2m│   │   │   \u001b[0mtrain_writer.add_scalar(\u001b[33m'\u001b[0m\u001b[33mloss\u001b[0m\u001b[33m'\u001b[0m, model.loss, model.total_steps)                  \u001b[31m│\u001b[0m\n",
       "\u001b[31m╰──────────────────────────────────────────────────────────────────────────────────────────────────╯\u001b[0m\n",
       "\u001b[1;91mNameError: \u001b[0mname \u001b[32m'lr'\u001b[0m is not defined\n"
      ]
     },
     "metadata": {},
     "output_type": "display_data"
    }
   ],
   "source": [
    "\n",
    "model = Trainer(opt)\n",
    "display_loss_steps = 10\n",
    "early_stopping_epochs = 10\n",
    "best_val_acc = 0\n",
    "n_epoch_since_improvement = 0\n",
    "model.train()\n",
    "\n",
    "print(f'cwd: {os.getcwd()}')\n",
    "for epoch in range(opt.niter):\n",
    "\n",
    "    for step, data in enumerate(train_loader):\n",
    "        model.set_input(data)\n",
    "        model.optimize_parameters()\n",
    "\n",
    "        if step % display_loss_steps == 0:\n",
    "            ts = time.strftime(\"%Y_%m_%d_%H_%M_%S\", time.localtime())\n",
    "            print(f\"{ts} | Step: {step} ({model.total_steps}) | Train loss: {model.loss} | lr {model.lr}\")\n",
    "\n",
    "        if model.total_steps % opt.loss_freq == 0:\n",
    "            train_writer.add_scalar('loss', model.loss, model.total_steps)\n",
    "                    \n",
    "        model.total_steps += 1\n",
    "\n",
    "    if epoch % opt.delr_freq == 0 and epoch != 0:\n",
    "        ts = time.strftime(\"%Y_%m_%d_%H_%M_%S\", time.localtime())\n",
    "        print(ts, 'changing lr at the end of epoch %d, iters %d' % (epoch, model.total_steps))\n",
    "        model.adjust_learning_rate()\n",
    "\n",
    "    # Validation\n",
    "    model.eval()\n",
    "    acc, ap = validate(model.model, val_loader)[:2]\n",
    "    val_writer.add_scalar('accuracy', acc, model.total_steps)\n",
    "    val_writer.add_scalar('ap', ap, model.total_steps)\n",
    "\n",
    "    print(\"(Val @ epoch {}) acc: {}; ap: {}\".format(epoch, acc, ap))\n",
    "    if acc > best_val_acc:\n",
    "        model.save_networks('best')\n",
    "        best_val_acc = acc\n",
    "    else:\n",
    "        n_epoch_since_improvement += 1\n",
    "        if n_epoch_since_improvement >= early_stopping_epochs:\n",
    "            break\n",
    "\n",
    "    model.train()\n",
    "\n",
    "model.eval()\n",
    "acc, ap = validate(model.model, test_loader)[:2]\n",
    "print(\"(Test) acc: {}; ap: {}\".format(acc, ap))\n",
    "model.save_networks('last')"
   ]
  },
  {
   "cell_type": "code",
   "execution_count": null,
   "id": "692ae95f-b9b3-49d9-86dc-54650b091b7b",
   "metadata": {},
   "outputs": [],
   "source": []
  },
  {
   "cell_type": "code",
   "execution_count": null,
   "id": "5c2fe626-61ac-4682-9c61-fb1cd488114a",
   "metadata": {},
   "outputs": [],
   "source": []
  }
 ],
 "metadata": {
  "kernelspec": {
   "display_name": "Python 3 (ipykernel)",
   "language": "python",
   "name": "python3"
  },
  "language_info": {
   "codemirror_mode": {
    "name": "ipython",
    "version": 3
   },
   "file_extension": ".py",
   "mimetype": "text/x-python",
   "name": "python",
   "nbconvert_exporter": "python",
   "pygments_lexer": "ipython3",
   "version": "3.10.14"
  }
 },
 "nbformat": 4,
 "nbformat_minor": 5
}
